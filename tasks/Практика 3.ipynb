{
  "metadata": {
    "kernelspec": {
      "name": "python",
      "display_name": "Python (Pyodide)",
      "language": "python"
    },
    "language_info": {
      "codemirror_mode": {
        "name": "python",
        "version": 3
      },
      "file_extension": ".py",
      "mimetype": "text/x-python",
      "name": "python",
      "nbconvert_exporter": "python",
      "pygments_lexer": "ipython3",
      "version": "3.8"
    }
  },
  "nbformat_minor": 5,
  "nbformat": 4,
  "cells": [
    {
      "cell_type": "markdown",
      "source": "# Дискретне косинусне перетворення\n## Пряме дискретне косинусне перетворення (ДКП):\n$$ X_k = \\sqrt{2/N} s(k) \\sum_{n=0}^{N-1} x_n cos \\left[ \\frac{\\pi}{N} \\left(n + 0.5\\right)k \\right], $$ \n\nде $X$ - результат після застосування ДКП.\n$x$ - початковий сигнал.\n$k$ - індекс ДКП коефіцієнта, $k = 0,..., N-1$.\n$N$ - кількість відліків початкового сигналу.\n$s$ - масштабуюча функція, $s(k) = 1$ за винятком $s(0) = \\sqrt{0.5}$.\n\n## Зворотне дискретне косинусне перетворення (ДКП):\n\n$$  x_n = \\sqrt{2/N} \\sum_{k=0}^{N-1} s(k) X_k cos \\left[ \\frac{\\pi}{N} \\left(n + 0.5\\right)k \\right]\\\\ $$ ",
      "metadata": {},
      "id": "bound-webcam"
    },
    {
      "cell_type": "markdown",
      "source": "### Завдання\n1. Реалізувати пряме та зворотне ДКП.\n2. Згенерувати АБГШ та застосувати до нього ДКП.",
      "metadata": {},
      "id": "technical-month"
    },
    {
      "cell_type": "code",
      "source": "import numpy as np\nimport matplotlib.pyplot as plt\n%matplotlib inline",
      "metadata": {},
      "execution_count": 1,
      "outputs": [],
      "id": "agreed-sharp"
    },
    {
      "cell_type": "code",
      "source": "",
      "metadata": {},
      "execution_count": null,
      "outputs": [],
      "id": "infectious-creek"
    }
  ]
}