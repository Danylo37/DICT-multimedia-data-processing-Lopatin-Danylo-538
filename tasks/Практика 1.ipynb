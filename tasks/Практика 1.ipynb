{
  "metadata": {
    "kernelspec": {
      "name": "python",
      "display_name": "Python (Pyodide)",
      "language": "python"
    },
    "language_info": {
      "codemirror_mode": {
        "name": "python",
        "version": 3
      },
      "file_extension": ".py",
      "mimetype": "text/x-python",
      "name": "python",
      "nbconvert_exporter": "python",
      "pygments_lexer": "ipython3",
      "version": "3.8"
    }
  },
  "nbformat_minor": 5,
  "nbformat": 4,
  "cells": [
    {
      "cell_type": "code",
      "source": "import numpy as np\nimport matplotlib.pyplot as plt",
      "metadata": {},
      "execution_count": 1,
      "outputs": [],
      "id": "helpful-syndrome"
    },
    {
      "cell_type": "markdown",
      "source": "# Моделювання небілого шумоподібного сигналу та аналіз кореляційної функції\n### Завдання\n1. Згенерувати адитивний білий гауссів шум (1024 значення, мат. очікування дорівнює 1, $\\sigma = 1$).\n2. Застосувати до генерованої послідовності лінійний фільтр з розмірами вікон w = 3, 5, 7.\n3. Отримати автокореляційну функцію (АКФ).\n4. Виконати зсув послідовності на 5 відліків і побудувати крос-кореляційну функцію для w = 3, 5, 7.",
      "metadata": {},
      "id": "modular-composite"
    },
    {
      "cell_type": "code",
      "source": "",
      "metadata": {},
      "execution_count": null,
      "outputs": [],
      "id": "heavy-winter"
    }
  ]
}