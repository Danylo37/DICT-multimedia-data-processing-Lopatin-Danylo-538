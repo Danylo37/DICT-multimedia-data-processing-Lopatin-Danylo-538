{
 "metadata": {
  "kernelspec": {
   "name": "python",
   "display_name": "Python (Pyodide)",
   "language": "python"
  },
  "language_info": {
   "codemirror_mode": {
    "name": "python",
    "version": 3
   },
   "file_extension": ".py",
   "mimetype": "text/x-python",
   "name": "python",
   "nbconvert_exporter": "python",
   "pygments_lexer": "ipython3",
   "version": "3.8"
  }
 },
 "nbformat_minor": 5,
 "nbformat": 4,
 "cells": [
  {
   "cell_type": "code",
   "source": "import numpy as np\nimport matplotlib.pyplot as plt",
   "metadata": {
    "trusted": true
   },
   "execution_count": 2,
   "outputs": [],
   "id": "forced-afghanistan"
  },
  {
   "cell_type": "markdown",
   "source": [
    "## Завдання\n",
    "1. Згенерувати шумоподібний інформаційний сигнал (на першому етапі необхідно отримати білий гаусов шум (АБГШ), обсяг вибірки дорівнює 1024, а потім вже застосувати до отриманої послідовності лінійний фільтр розміром вікна w = 5).\n",
    "2. Виконати нормалізацію отриманого шумоподібного інформаційного сигналу, центруючи та наводячи розподіл цього сигналу до одиничної дисперсії: $x = (x - \\mu) / \\sigma$, де $\\mu$ і $\\sigma$ - математичне очікування та середньоквадратичне відхилення сигналу відповідно (np.mean і np.std).\n",
    "3. Отримати дві різні реалізації адитивного білого гаусівського шуму $y_{n1}$ і $y_{n2}$ (1024 значення, мат. очікування дорівнює 0, $\\sigma = 1$). Здійснити нормування отриманих реалізацій шуму.\n",
    "4. Змінити середньоквадратичне відхилення для двох реалізацій АБГШ таким чином, щоб забезпечити співвідношення сигнал/шуму (signal-to-noise ratio, SNR) між шумоподібним інформаційним сигналом та шумом $SNR = 10 dB$.\n",
    "$$SNR (dB) = 10*lg{(\\frac{P_S}{P_N})} = 10*lg{(\\frac{\\sigma_S^2}{\\sigma_N^2})},$$\n",
    "\n",
    "$\\sigma_S^2$, $\\sigma_N^2$ - дисперсії сигналу та шуму відповідно.\n",
    "\n",
    "5. Отримати суміші сигналу та шуму: $x_{n1} = x + y_{n1}$ і $x_{n2} = x + y_{n2}$.\n",
    "6. Отримати взаємну кореляційну функцію для сигналів $x_{n1}$ и $x_{n2}$."
   ],
   "metadata": {},
   "id": "bulgarian-rebate"
  },
  {
   "cell_type": "code",
   "source": "",
   "metadata": {},
   "execution_count": null,
   "outputs": [],
   "id": "piano-banks"
  },
  {
   "metadata": {
    "trusted": true
   },
   "cell_type": "code",
   "outputs": [],
   "execution_count": 3,
   "source": [
    "# AWGN\n",
    "size = 1024\n",
    "x = np.random.randn(size)"
   ],
   "id": "c2e52b80b3b7a0a1"
  },
  {
   "cell_type": "code",
   "source": "",
   "metadata": {},
   "execution_count": null,
   "outputs": [],
   "id": "3abaf2b2-48fd-4f06-9ac4-d6e7f526aadf"
  }
 ]
}
